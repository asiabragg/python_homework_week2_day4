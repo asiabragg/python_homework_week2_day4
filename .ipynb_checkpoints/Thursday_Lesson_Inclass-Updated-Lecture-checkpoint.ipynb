{
 "cells": [
  {
   "cell_type": "markdown",
   "metadata": {},
   "source": [
    "# Object-Oriented-Programming (OOP)"
   ]
  },
  {
   "cell_type": "markdown",
   "metadata": {},
   "source": [
    "## Tasks Today:\n",
    "\n",
    "   \n",
    "\n",
    "1) <b>Creating a Class (Initializing/Declaring)</b> <br>\n",
    "2) <b>Using a Class (Instantiating)</b> <br>\n",
    " &nbsp;&nbsp;&nbsp;&nbsp; a) Creating One Instance <br>\n",
    " &nbsp;&nbsp;&nbsp;&nbsp; b) Creating Multiple Instances <br>\n",
    " &nbsp;&nbsp;&nbsp;&nbsp; c) In-Class Exercise #1 - Create a Class 'Car' and instantiate three different makes of cars <br>\n",
    "3) <b>The \\__init\\__() Method</b> <br>\n",
    " &nbsp;&nbsp;&nbsp;&nbsp; a) The 'self' Attribute <br>\n",
    "4) <b>Class Attributes</b> <br>\n",
    " &nbsp;&nbsp;&nbsp;&nbsp; a) Initializing Attributes <br>\n",
    " &nbsp;&nbsp;&nbsp;&nbsp; b) Setting an Attribute Outside of the \\__init\\__() Method <br>\n",
    " &nbsp;&nbsp;&nbsp;&nbsp; c) Setting Defaults for Attributes <br>\n",
    " &nbsp;&nbsp;&nbsp;&nbsp; d) Accessing Class Attributes <br>\n",
    " &nbsp;&nbsp;&nbsp;&nbsp; e) Changing Class Attributes <br>\n",
    " &nbsp;&nbsp;&nbsp;&nbsp; f) In-Class Exercise #2 - Add a color and wheels attribute to your 'Car' class <br>\n",
    "5) <b>Class Methods</b> <br>\n",
    " &nbsp;&nbsp;&nbsp;&nbsp; a) Creating <br>\n",
    " &nbsp;&nbsp;&nbsp;&nbsp; b) Calling <br>\n",
    " &nbsp;&nbsp;&nbsp;&nbsp; c) Modifying an Attribute's Value Through a Method <br>\n",
    " &nbsp;&nbsp;&nbsp;&nbsp; d) Incrementing an Attribute's Value Through a Method <br>\n",
    " &nbsp;&nbsp;&nbsp;&nbsp; e) In-Class Exercise #3 - Add a method that prints the cars color and wheel number, then call them <br>\n",
    "6) <b>Inheritance</b> <br>\n",
    " &nbsp;&nbsp;&nbsp;&nbsp; a) Syntax for Inheriting from a Parent Class <br>\n",
    " &nbsp;&nbsp;&nbsp;&nbsp; b) The \\__init\\__() Method for a Child Class (super()) <br>\n",
    " &nbsp;&nbsp;&nbsp;&nbsp; c) Defining Attributes and Methods for the Child Class <br>\n",
    " &nbsp;&nbsp;&nbsp;&nbsp; d) Method Overriding <br>\n",
    " &nbsp;&nbsp;&nbsp;&nbsp; e) In-Class Exercise #4 - Create a class 'Ford' that inherits from 'Car' class and initialize it as a Blue Ford Explorer with 4 wheels using the super() method <br>\n",
    "7) <b>Classes as Attributes</b> <br>\n",
    "8) <b>Exercises</b> <br>\n",
    " &nbsp;&nbsp;&nbsp;&nbsp; a) Exercise #1 - Turn the shopping cart program from yesterday into an object-oriented program <br>"
   ]
  },
  {
   "cell_type": "code",
   "execution_count": null,
   "metadata": {},
   "outputs": [],
   "source": []
  },
  {
   "cell_type": "code",
   "execution_count": null,
   "metadata": {},
   "outputs": [],
   "source": [
    "# Circumfrance of a cirle\n"
   ]
  },
  {
   "cell_type": "markdown",
   "metadata": {},
   "source": [
    "## Creating a Class (Initializing/Declaring)\n",
    "<p>When creating a class, function, or even a variable you are initializing that object. Initializing and Declaring occur at the same time in Python, whereas in lower level languages you have to declare an object before initializing it. This is the first step in the process of using a class.</p>"
   ]
  },
  {
   "cell_type": "code",
   "execution_count": null,
   "metadata": {},
   "outputs": [],
   "source": [
    "class Car():\n",
    "    wheels = 4\n",
    "    color = 'Blue'"
   ]
  },
  {
   "cell_type": "markdown",
   "metadata": {},
   "source": [
    "## Using a Class (Instantiating)\n",
    "<p>The process of creating a class is called <i>Instantiating</i>. Each time you create a variable of that type of class, it is referred to as an <i>Instance</i> of that class. This is the second step in the process of using a class.</p>"
   ]
  },
  {
   "cell_type": "markdown",
   "metadata": {},
   "source": [
    "##### Creating One Instance"
   ]
  },
  {
   "cell_type": "code",
   "execution_count": null,
   "metadata": {},
   "outputs": [],
   "source": [
    "ford = Car()\n",
    "ford.wheels"
   ]
  },
  {
   "cell_type": "markdown",
   "metadata": {},
   "source": [
    "##### Creating Multiple Instances"
   ]
  },
  {
   "cell_type": "code",
   "execution_count": null,
   "metadata": {},
   "outputs": [],
   "source": [
    "chevy = Car()\n",
    "honda = Car()\n",
    "porsche = Car()\n",
    "\n",
    "porsche.color"
   ]
  },
  {
   "cell_type": "markdown",
   "metadata": {},
   "source": [
    "##### In-Class Exercise #1 - Create a Class 'Car' and Instantiate three different makes of cars"
   ]
  },
  {
   "cell_type": "code",
   "execution_count": null,
   "metadata": {},
   "outputs": [],
   "source": [
    "# Add doors, a new color, wheels, and a sunroof \n",
    "# An instance is usually kept upper case.\n",
    "\n",
    "class Car():\n",
    "    doors = 4\n",
    "    color = \"Silver\"\n",
    "    wheels = 4\n",
    "    sunroof = True\n",
    "    \n",
    "kia = Car()\n",
    "jeep = Car()\n",
    "cadillac = Car()\n",
    "\n",
    "print(kia.color, kia.sunroof)"
   ]
  },
  {
   "cell_type": "markdown",
   "metadata": {},
   "source": [
    "## The \\__init\\__() Method <br>\n",
    "<p>This method is used in almost every created class, and called only once upon the creation of the class instance. This method will initialize all variables needed for the object.</p>"
   ]
  },
  {
   "cell_type": "code",
   "execution_count": null,
   "metadata": {},
   "outputs": [],
   "source": [
    "class Toy():\n",
    "    kind = \"Car\"\n",
    "    \n",
    "    def __init__(self, rooftop, horn, wheels):\n",
    "        self.rooftop = rooftop\n",
    "        self.horn = horn\n",
    "        self.wheels = wheels\n",
    "\n",
    "hotwheels_car = Toy(1,1,4)\n",
    "\n",
    "print(hotwheels_car.wheels)"
   ]
  },
  {
   "cell_type": "markdown",
   "metadata": {},
   "source": [
    "##### The 'self' Attribute <br>\n",
    "<p>This attribute is required to keep track of specific instance's attributes. Without the self attribute, the program would not know how to reference or keep track of an instance's attributes.</p>"
   ]
  },
  {
   "cell_type": "code",
   "execution_count": null,
   "metadata": {},
   "outputs": [],
   "source": [
    "# see above"
   ]
  },
  {
   "cell_type": "markdown",
   "metadata": {},
   "source": [
    "## Class Attributes <br>\n",
    "<p>While variables are inside of a class, they are referred to as attributes and not variables. When someone says 'attribute' you know they're speaking about a class. Attributes can be initialized through the init method, or outside of it.</p>"
   ]
  },
  {
   "cell_type": "markdown",
   "metadata": {},
   "source": [
    "##### Initializing Attributes"
   ]
  },
  {
   "cell_type": "code",
   "execution_count": null,
   "metadata": {},
   "outputs": [],
   "source": [
    "# see above\n",
    "\n",
    "tanka_truck = Toy(2,1,4) # 2 Rooftops, 1 Horn, 4 Wheels"
   ]
  },
  {
   "cell_type": "markdown",
   "metadata": {},
   "source": [
    "##### Accessing Class Attributes"
   ]
  },
  {
   "cell_type": "code",
   "execution_count": null,
   "metadata": {
    "scrolled": true
   },
   "outputs": [],
   "source": [
    "# See Above\n",
    "def creation_paw_patrol():\n",
    "    rooftop = 2\n",
    "    return rooftop\n",
    "\n",
    "print(tanka_truck.rooftop)\n",
    "print(creation_paw_patrol())"
   ]
  },
  {
   "cell_type": "markdown",
   "metadata": {},
   "source": [
    "##### Setting Defaults for Attributes"
   ]
  },
  {
   "cell_type": "code",
   "execution_count": null,
   "metadata": {},
   "outputs": [],
   "source": [
    "class Human():\n",
    "    def __init__(self, walking, height, weight, talk = True, eyes=\"brown\"):\n",
    "        self.walking = walking\n",
    "        self.height = height\n",
    "        self.weight = weight\n",
    "        self.talk = talk\n",
    "        self.eyes = eyes\n",
    "        \n",
    "weight = input(\"How much do you weigh?\")\n",
    "\n",
    "asia = Human(True,'5ft 6in', weight)\n",
    "\n",
    "print(asia.talk)"
   ]
  },
  {
   "cell_type": "markdown",
   "metadata": {},
   "source": [
    "##### Changing Class Attributes <br>\n",
    "<p>Keep in mind there are global class attributes and then there are attributes only available to each class instance which won't effect other classes.</p>"
   ]
  },
  {
   "cell_type": "code",
   "execution_count": null,
   "metadata": {},
   "outputs": [],
   "source": [
    "print(tanka_truck.kind)\n",
    "tanka_truck.kind = \"Truck\"\n",
    "print(\"After The Change:\", tanka_truck.kind)"
   ]
  },
  {
   "cell_type": "code",
   "execution_count": null,
   "metadata": {},
   "outputs": [],
   "source": [
    "print(asia.weight)\n",
    "asia.weight = \"140lb\"\n",
    "\n",
    "print(\"After the Change:\", asia.weight)"
   ]
  },
  {
   "cell_type": "markdown",
   "metadata": {},
   "source": [
    "##### In-Class Exercise #2 - Add a doors and seats attribute to your 'Car' class then print out two different instances with different doors and seats"
   ]
  },
  {
   "cell_type": "code",
   "execution_count": null,
   "metadata": {},
   "outputs": [],
   "source": [
    "class Car():\n",
    "    color = \"Silver\"\n",
    "    wheels = 4\n",
    "    sunroof = True\n",
    "    \n",
    "    def __init__(self, doors, seats):\n",
    "        self.doors = doors\n",
    "        self.seats = seats\n",
    "\n",
    "tesla_roadster = Car(4, 5)\n",
    "honda_CRV = Car(4, 6)\n",
    "\n",
    "print(tesla_roadster.doors, tesla_roadster.seats)\n",
    "print(honda_CRV.doors, honda_CRV.seats)"
   ]
  },
  {
   "cell_type": "markdown",
   "metadata": {},
   "source": [
    "## Class Methods <br>\n",
    "<p>While inside of a class, functions are referred to as 'methods'. If you hear someone mention methods, they're speaking about classes. Methods are essentially functions, but only callable on the instances of a class.</p>"
   ]
  },
  {
   "cell_type": "markdown",
   "metadata": {},
   "source": [
    "##### Creating"
   ]
  },
  {
   "cell_type": "code",
   "execution_count": null,
   "metadata": {},
   "outputs": [],
   "source": [
    "class ShoppingBag():\n",
    "    def __init__(self, handles, capacity, items):\n",
    "        self.handles = handles\n",
    "        self.capacity = capacity\n",
    "        self.items = items\n",
    "        \n",
    "    \"\"\"ShoppingBag will require 3 positional arguments:\n",
    "        handles: Expects an integer.\n",
    "        capacity: Expects an integer.\n",
    "        items: Expects a list, which can be empty. \n",
    "    \"\"\"\n",
    "    # Method to show ShoppingBag\n",
    "    def showShoppingBag(self):\n",
    "        print(\"You have items in your bag!\")\n",
    "        for item in self.items:\n",
    "            print(item)\n",
    "\n",
    "    # Method to show the capacity of the ShoppingBag\n",
    "    def showCapacity(self):\n",
    "        print(f\"Your Capacity is {self.capacity}\")\n",
    "\n",
    "    # Method to add to the ShoppingBag\n",
    "    def addToShoppingBag(self):\n",
    "        product = input(\"What would you like to add? \")\n",
    "        self.items.append(product)\n",
    "\n",
    "    # Method to change(or update) the current capacity of the ShoppingBag\n",
    "    def changeBagCapacity(self,capacity):\n",
    "        \"\"\"\n",
    "            changeBagCapacity assumes the capacity will be an integer\n",
    "        \"\"\"\n",
    "        self.capacity = capacity\n",
    "\n",
    "    # Method to Auto Increase Capacity\n",
    "    def autoIncreaseCapacity(self):\n",
    "        if self.capacity == isinstance(self.capacity, str):\n",
    "            print(\"Hey, you can't do that here sir...\")\n",
    "        else:\n",
    "            self.capacity += 10\n",
    "                \n",
    "def run():\n",
    "    whole_food_bag = ShoppingBag(2, 10, [])\n",
    "    while True:\n",
    "        response = input(\"What do you want to do? - Add/Show or Quit?\")\n",
    "        if response.lower() == 'add':\n",
    "            whole_food_bag.addToShoppingBag()\n",
    "        if response.lower() == 'show':\n",
    "            whole_food_bag.showShoppingBag()\n",
    "        if response.lower() == 'quit':\n",
    "            print(\"Here is your bag...\")\n",
    "            whole_food_bag.showShoppingBag()\n",
    "            break\n",
    "\n",
    "run()"
   ]
  },
  {
   "cell_type": "markdown",
   "metadata": {},
   "source": [
    "##### Calling"
   ]
  },
  {
   "cell_type": "code",
   "execution_count": null,
   "metadata": {},
   "outputs": [],
   "source": [
    "# See Above"
   ]
  },
  {
   "cell_type": "markdown",
   "metadata": {},
   "source": [
    "##### Modifying an Attribute's Value Through a Method"
   ]
  },
  {
   "cell_type": "code",
   "execution_count": null,
   "metadata": {},
   "outputs": [],
   "source": [
    "whole_food_bag = ShoppingBag(2, 10, [])\n",
    "whole_food_bag.showCapacity()\n",
    "\n",
    "print(\"Capacity AFTER the change...\")\n",
    "whole_food_bag.changeBagCapacity(20)\n",
    "whole_food_bag.showCapacity()"
   ]
  },
  {
   "cell_type": "markdown",
   "metadata": {},
   "source": [
    "##### Incrementing an Attribute's Value Through a Method"
   ]
  },
  {
   "cell_type": "code",
   "execution_count": null,
   "metadata": {},
   "outputs": [],
   "source": [
    "whole_food_bag.showCapacity()\n",
    "\n",
    "print(\"Capacity AFTER the increase...\")\n",
    "whole_food_bag.autoIncreaseCapacity()\n",
    "whole_food_bag.showCapacity()"
   ]
  },
  {
   "cell_type": "markdown",
   "metadata": {},
   "source": [
    "##### In-Class Exercise #3 - Add a method that takes in three parameters of year, doors and seats and prints out a formatted print statement with make, model, year, seats, and doors"
   ]
  },
  {
   "cell_type": "code",
   "execution_count": null,
   "metadata": {},
   "outputs": [],
   "source": [
    "# Create class with 2 paramters inside of the __init__ which are make and model\n",
    "\n",
    "# Inside of the Car class create a method that has 4 parameter in total (self,year,door,seats)\n",
    "\n",
    "# Output: This car is from 2019 and is a Ford Expolorer and has 4 doors and 5 seats\n",
    "\n",
    "class Car():\n",
    "    \"\"\"\n",
    "        The Car object requires 2 arguments to be passet at\n",
    "        Object insatiation, which are the make and model. \n",
    "    \"\"\"\n",
    "    \n",
    "    def __init__(self, make, model):\n",
    "        \"\"\"\n",
    "            This constructor will create a make and model based on the passed arguments\n",
    "            which are expected to be strings for both make and model. \n",
    "        \"\"\"\n",
    "        self.make = make\n",
    "        self.model = model\n",
    "    \n",
    "    def car_details(self, year, doors, seats):\n",
    "        print(f\"This car is from {year} and is a {self.make} {self.model} and has {doors} doors and {seats} seats.\")\n",
    "\n",
    "new_car = Car(\"Ford\", \"Explorer\")\n",
    "\n",
    "new_car.car_details(2019, 4, 5)"
   ]
  },
  {
   "cell_type": "markdown",
   "metadata": {},
   "source": [
    "## Inheritance <br>\n",
    "<p>You can create a child-parent relationship between two classes by using inheritance. What this allows you to do is have overriding methods, but also inherit traits from the parent class. Think of it as an actual parent and child, the child will inherit the parent's genes, as will the classes in OOP</p>"
   ]
  },
  {
   "cell_type": "markdown",
   "metadata": {},
   "source": [
    "##### Syntax for Inheriting from a Parent Class"
   ]
  },
  {
   "cell_type": "code",
   "execution_count": null,
   "metadata": {},
   "outputs": [],
   "source": [
    "class Animal():\n",
    "    acceleration = 9.8\n",
    "    \n",
    "    def __init__(self, name, species, legs = 4):\n",
    "        self.name = name\n",
    "        self.species = species\n",
    "        self.legs = legs\n",
    "        \n",
    "    def makeSound(self):\n",
    "        return \"Some Generic Sound\"\n",
    "\n",
    "class Dog(Animal):\n",
    "    speed = 15\n",
    "    \n",
    "    def printInfo(self):\n",
    "        return (f\"This Dog is {self.name}\")\n",
    "\n",
    "class Cat(Animal):\n",
    "    eye_color = \"brown\"\n",
    "    \n",
    "    def __init__(self, name, species, color, legs = 4):\n",
    "        Animal.__init__(self, name, species, legs)\n",
    "        self.color = color\n",
    "        \n",
    "    # Method Overriding\n",
    "    def makeSound(self):\n",
    "        return \"Purr\"\n",
    "        \n",
    "# help(Dog)\n",
    "              \n",
    "lassie = Dog('lassie', 'Dog')\n",
    "lassie.printInfo()\n",
    "\n",
    "# help(Cat)\n",
    "generic_animal = Animal(\"Generic\", \"Random_Species\")\n",
    "generic_animal.makeSound()\n",
    "\n",
    "garfield = Cat('Garfield', 'Cat', 'Orange')\n",
    "print(f\"{garfield.name} is a {garfield.species} that's {garfield.color}\")\n",
    "print(garfield.makeSound())\n"
   ]
  },
  {
   "cell_type": "markdown",
   "metadata": {},
   "source": [
    "##### The \\__init\\__() Method for a Child Class - super()"
   ]
  },
  {
   "cell_type": "code",
   "execution_count": null,
   "metadata": {
    "scrolled": true
   },
   "outputs": [],
   "source": [
    "class Bird(Animal):\n",
    "    speed = \"25mph\"\n",
    "    \n",
    "    def __init__(self, name, species, color, legs = 4):\n",
    "        \n",
    "        # Only time we can exclude self from the parameter list. \n",
    "        super().__init__(name, species, legs)\n",
    "        self.color = color\n",
    "        \n",
    "    def printInfo(self):\n",
    "        print(f\"This Bird is {self.color}\")\n",
    "        \n",
    "#help(Bird)\n",
    "polly = Bird(\"polly\", \"Bird\", \"Red\")\n",
    "polly.printInfo()"
   ]
  },
  {
   "cell_type": "markdown",
   "metadata": {},
   "source": [
    "Multiple Inheritance"
   ]
  },
  {
   "cell_type": "code",
   "execution_count": null,
   "metadata": {},
   "outputs": [],
   "source": [
    "class Bird(Cat, Animal):\n",
    "    speed = \"25mph\"\n",
    "    \n",
    "    def __init__(self, name, species, color, legs = 4):\n",
    "        \n",
    "        # Only time we can exclude self from the parameter list. \n",
    "        super().__init__(name, species, legs)\n",
    "        self.color = color\n",
    "        \n",
    "    def printInfo(self):\n",
    "        print(f\"This Bird is {self.color} and has {self.eye_color} eyes.\")\n",
    "        \n",
    "help(Bird)\n",
    "polly = Bird(\"polly\", \"Bird\", \"Red\")\n",
    "polly.printInfo()"
   ]
  },
  {
   "cell_type": "markdown",
   "metadata": {},
   "source": [
    "##### Defining Attributes and Methods for the Child Class"
   ]
  },
  {
   "cell_type": "code",
   "execution_count": null,
   "metadata": {},
   "outputs": [],
   "source": [
    "# See Above"
   ]
  },
  {
   "cell_type": "markdown",
   "metadata": {},
   "source": [
    "##### Method Overriding"
   ]
  },
  {
   "cell_type": "code",
   "execution_count": null,
   "metadata": {},
   "outputs": [],
   "source": [
    "# See Above"
   ]
  },
  {
   "cell_type": "markdown",
   "metadata": {},
   "source": [
    "## Classes as Attributes <br>\n",
    "<p>Classes can also be used as attributes within another class. This is useful in situations where you need to keep variables locally stored, instead of globally stored.</p>"
   ]
  },
  {
   "cell_type": "code",
   "execution_count": null,
   "metadata": {},
   "outputs": [],
   "source": [
    "class Battery():\n",
    "    volts = 7.8\n",
    "    \n",
    "    def __init__(self, cells):\n",
    "        self.cells = cells\n",
    "\n",
    "class Car():\n",
    "    def __init__(self, year, make, model, battery):\n",
    "        self.year = year\n",
    "        self.make = make\n",
    "        self.model = model\n",
    "        self.battery = battery\n",
    "    \n",
    "    def printInfo(self):\n",
    "        print(self.year, self.make, self.battery.volts)\n",
    "        \n",
    "batt = Battery(20)\n",
    "tesla = Car(2020, \"Tesla\", \"Model X\", batt)\n",
    "tesla.printInfo()"
   ]
  },
  {
   "cell_type": "markdown",
   "metadata": {},
   "source": [
    "# Exercises"
   ]
  },
  {
   "cell_type": "markdown",
   "metadata": {},
   "source": [
    "### Exercise 1 - Turn the shopping cart program from yesterday into an object-oriented program\n",
    "\n",
    "The comments in the cell below are there as a guide for thinking about the problem. However, if you feel a different way is best for you and your own thought process, please do what feels best for you by all means."
   ]
  },
  {
   "cell_type": "code",
   "execution_count": 62,
   "metadata": {},
   "outputs": [
    {
     "name": "stdout",
     "output_type": "stream",
     "text": [
      "What would you like to do? Add/Show/Remove or Quit? add\n",
      "What would you like to add? \n",
      "candy\n",
      "How many would you like to add? \n",
      "2\n",
      "You've added 2 candy\n",
      "Current cart capacity is now: 48\n",
      "What would you like to do? Add/Show/Remove or Quit? add\n",
      "What would you like to add? \n",
      "cereal\n",
      "How many would you like to add? \n",
      "2\n",
      "You've added 2 cereal\n",
      "Current cart capacity is now: 46\n",
      "What would you like to do? Add/Show/Remove or Quit? remove\n",
      "Current Items in Cart:\n",
      "candy, 2\n",
      "cereal, 2\n",
      "What would you like to remove?candy\n",
      "That item is not in your cart.\n",
      "What would you like to do? Add/Show/Remove or Quit? quit\n",
      "Done Shopping? Ok!\n",
      "Here is what you have in your cart: \n",
      "2 candy\n",
      "2 cereal\n"
     ]
    }
   ],
   "source": [
    "# Create a class called cart that retains items and has methods to add, remove, and show\n",
    "\n",
    "class Cart():\n",
    "    # Defines the Attributes the Object will Initially Have\n",
    "    # Object will initially have properties for capacity and items\n",
    "    def __init__(self, capacity, items):\n",
    "        self.capacity = capacity\n",
    "        self.items = items\n",
    "    \n",
    "    \"\"\"\n",
    "    The Shoppping Cart will require 2 positional arguments:\n",
    "    capacity and items\n",
    "    capacity will be a max amount of 50 items.\n",
    "    items will be a empty dictionary that will be filled upon user input. \n",
    "    \"\"\"\n",
    "    \n",
    "    # Method to Show Contents and Current Capacity of the Cart\n",
    "    def showShoppingCart(self):\n",
    "        if self.items == {}:\n",
    "            print(\"Seems your bag is empty...\")\n",
    "            return (f\"You have room for {self.capacity} items.\")\n",
    "        else:\n",
    "            print(\"Here is what you have in your cart: \")\n",
    "            for item, amount in self.items.items():\n",
    "                print(f\"{amount} {item}\")\n",
    "    \n",
    "    # Method to Add Items to the Cart and Update Capacity\n",
    "    def addToShoppingCart(self):\n",
    "        # Gets the grocery item and amount from the user. \n",
    "        grocery_item = input(\"What would you like to add? \\n\")\n",
    "        grocery_amount = input(\"How many would you like to add? \\n\")\n",
    "        \n",
    "        # If the amount provided is not a number, the user is asked again.\n",
    "        while grocery_amount.isdigit() == False:\n",
    "            print(\"Please enter a number for your amount. \\n\")\n",
    "            grocery_amount = input(\"Ok. How many would you like to add? \\n\") \n",
    "        \n",
    "        # Converts grocery_amount to an integer.\n",
    "        # Saves grocert_item and grocery_amount in the dictionary.\n",
    "        item = grocery_item.lower()\n",
    "        amount = int(grocery_amount) \n",
    "        self.items.update({item:amount})\n",
    "        print (f\"You've added {amount} {item}\")\n",
    "    \n",
    "        # Update the Capacity Based on the Amount\n",
    "        self.capacity = self.capacity - amount\n",
    "        print (f\"Current cart capacity is now: {self.capacity}\")\n",
    "    \n",
    "    # Method to Remove Items of the Cart\n",
    "    def removeFromShoppingCart(self):\n",
    "        # Prints the current items in the cart along with the amount. \n",
    "        # If nothing in cart tells them there is nothing to remove.\n",
    "        if self.items == {}:\n",
    "            print (\"There's nothing in your cart...so nothing to remove. \\n\")\n",
    "        else:\n",
    "            print (\"Current Items in Cart:\")\n",
    "            for item, amount in self.items.items():\n",
    "                print (f\"{item}, {amount}\")\n",
    "            #Could not get this to run properly...\n",
    "            while True:\n",
    "                item_to_remove = input(\"What would you like to remove?\")\n",
    "                removed_item = item_to_remove.lower()\n",
    "                if removed_item == self.items[removed_item]:\n",
    "                    print(f\" Ok! {removed_item} has been removed from cart.\")\n",
    "                    self.capacity = self.capacity + self.items[removed_item]\n",
    "                    del self.items[removed_item]\n",
    "                else:\n",
    "                    print(\"That item is not in your cart.\")\n",
    "                    break\n",
    "\n",
    "    \n",
    "# Declare the grocery_cart Object within the cartSimultor function.\n",
    "def cartSimulator():\n",
    "    grocery_cart = Cart(50, {})\n",
    "    while True:\n",
    "        response = input(\"What would you like to do? Add/Show/Remove or Quit? \")\n",
    "        if response.lower() == 'add':\n",
    "            grocery_cart.addToShoppingCart()\n",
    "            continue \n",
    "            \n",
    "        if response.lower() == 'show':\n",
    "            grocery_cart.showShoppingCart()\n",
    "            continue\n",
    "            \n",
    "        if response.lower() == 'remove':\n",
    "            grocery_cart.removeFromShoppingCart()\n",
    "            continue\n",
    "            \n",
    "        if response.lower() == 'quit':\n",
    "            print (\"Done Shopping? Ok!\")\n",
    "            grocery_cart.showShoppingCart()\n",
    "            break\n",
    "            \n",
    "        elif response.lower() != 'add' or response.lower() != 'show' or response.lower() != 'remove' or response.lower() != 'quit':\n",
    "            print(\"You need to enter: Add, Show, Remove or Quit. \\n\")\n",
    "\n",
    "# Run the cartSimulator Function\n",
    "cartSimulator()"
   ]
  },
  {
   "cell_type": "markdown",
   "metadata": {},
   "source": [
    "### Exercise 2 - Create a class 'Ford' that inherits from 'Car' class and initialize it as a Blue Ford Explorer with 4 wheels using the super() method, add a method to car which prints 'this is a car' and create an overriding method in class Ford that prints the information on the car"
   ]
  },
  {
   "cell_type": "code",
   "execution_count": 34,
   "metadata": {},
   "outputs": [
    {
     "name": "stdout",
     "output_type": "stream",
     "text": [
      "Blue Ford Explorer with 4 wheels.\n"
     ]
    }
   ],
   "source": [
    "# Create Parent Class called Car - That will be inherited by child Class called Ford\n",
    "# Add a method to the Car class that prints \"This is a car\"\n",
    "# Inside of the Child Class initialize the the inherited info using super()\n",
    "# Override the above method with the information of the Ford Car\n",
    "\n",
    "class Car():\n",
    "    def __init__(self, make, model, color, wheels = 4):\n",
    "        self.make = make\n",
    "        self.model = model\n",
    "        self.color = color\n",
    "        self.wheels = wheels\n",
    "    \n",
    "    def thisIs(self):\n",
    "        return \"This is a car.\"\n",
    "\n",
    "class Ford(Car):\n",
    "    def __init__(self, make, model, color, wheels = 4):\n",
    "        super().__init__(make, model, color, wheels)\n",
    "    \n",
    "    def thisIs(self):\n",
    "        return (f\"{self.color} {self.make} {self.model} with {self.wheels} wheels.\")\n",
    "    \n",
    "new_car = Ford(\"Ford\", \"Explorer\", \"Blue\")\n",
    "print(new_car.thisIs())"
   ]
  },
  {
   "cell_type": "code",
   "execution_count": null,
   "metadata": {},
   "outputs": [],
   "source": []
  }
 ],
 "metadata": {
  "kernelspec": {
   "display_name": "Python 3",
   "language": "python",
   "name": "python3"
  },
  "language_info": {
   "codemirror_mode": {
    "name": "ipython",
    "version": 3
   },
   "file_extension": ".py",
   "mimetype": "text/x-python",
   "name": "python",
   "nbconvert_exporter": "python",
   "pygments_lexer": "ipython3",
   "version": "3.7.6"
  }
 },
 "nbformat": 4,
 "nbformat_minor": 2
}
